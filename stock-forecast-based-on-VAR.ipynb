{
 "cells": [
  {
   "cell_type": "code",
   "execution_count": 1,
   "id": "2abdb8f7-890a-4b24-ae4d-7d25056e7a42",
   "metadata": {},
   "outputs": [],
   "source": [
    "import tushare as ts\n",
    "import pandas as pd\n",
    "import statsmodels.tsa.stattools as stat\n",
    "import numpy as np"
   ]
  },
  {
   "cell_type": "code",
   "execution_count": 2,
   "id": "c844fb9e-f15f-4cf5-b84c-ff67aafa6146",
   "metadata": {},
   "outputs": [],
   "source": [
    "pro = ts.pro_api()\n",
    "pro = ts.pro_api('f7ee2dda50509f466b74a0eb3cbbe9a60b6c6cf16e3005949cf70672')\n",
    "data = pro.daily(ts_code='600519.SH')"
   ]
  },
  {
   "cell_type": "code",
   "execution_count": 3,
   "id": "8825653a-4f84-4b62-a0d4-2cb8d474faa6",
   "metadata": {},
   "outputs": [],
   "source": [
    "data = data.sort_values('trade_date')\n",
    "data['trade_date'] = pd.to_datetime(data['trade_date'])\n",
    "data.set_index('trade_date',inplace=True)"
   ]
  },
  {
   "cell_type": "code",
   "execution_count": 4,
   "id": "af2248d3-f7ca-4be9-b3d3-d850573cabdd",
   "metadata": {},
   "outputs": [
    {
     "data": {
      "text/html": [
       "<div>\n",
       "<style scoped>\n",
       "    .dataframe tbody tr th:only-of-type {\n",
       "        vertical-align: middle;\n",
       "    }\n",
       "\n",
       "    .dataframe tbody tr th {\n",
       "        vertical-align: top;\n",
       "    }\n",
       "\n",
       "    .dataframe thead th {\n",
       "        text-align: right;\n",
       "    }\n",
       "</style>\n",
       "<table border=\"1\" class=\"dataframe\">\n",
       "  <thead>\n",
       "    <tr style=\"text-align: right;\">\n",
       "      <th></th>\n",
       "      <th>open</th>\n",
       "      <th>close</th>\n",
       "      <th>low</th>\n",
       "      <th>high</th>\n",
       "    </tr>\n",
       "    <tr>\n",
       "      <th>trade_date</th>\n",
       "      <th></th>\n",
       "      <th></th>\n",
       "      <th></th>\n",
       "      <th></th>\n",
       "    </tr>\n",
       "  </thead>\n",
       "  <tbody>\n",
       "    <tr>\n",
       "      <th>2001-08-27</th>\n",
       "      <td>34.51</td>\n",
       "      <td>35.55</td>\n",
       "      <td>32.85</td>\n",
       "      <td>37.78</td>\n",
       "    </tr>\n",
       "    <tr>\n",
       "      <th>2001-08-28</th>\n",
       "      <td>34.99</td>\n",
       "      <td>36.86</td>\n",
       "      <td>34.61</td>\n",
       "      <td>37.00</td>\n",
       "    </tr>\n",
       "    <tr>\n",
       "      <th>2001-08-29</th>\n",
       "      <td>36.98</td>\n",
       "      <td>36.38</td>\n",
       "      <td>36.10</td>\n",
       "      <td>37.00</td>\n",
       "    </tr>\n",
       "    <tr>\n",
       "      <th>2001-08-30</th>\n",
       "      <td>36.28</td>\n",
       "      <td>37.10</td>\n",
       "      <td>36.00</td>\n",
       "      <td>37.51</td>\n",
       "    </tr>\n",
       "    <tr>\n",
       "      <th>2001-08-31</th>\n",
       "      <td>37.15</td>\n",
       "      <td>37.01</td>\n",
       "      <td>36.80</td>\n",
       "      <td>37.62</td>\n",
       "    </tr>\n",
       "    <tr>\n",
       "      <th>...</th>\n",
       "      <td>...</td>\n",
       "      <td>...</td>\n",
       "      <td>...</td>\n",
       "      <td>...</td>\n",
       "    </tr>\n",
       "    <tr>\n",
       "      <th>2021-05-20</th>\n",
       "      <td>2074.00</td>\n",
       "      <td>2058.88</td>\n",
       "      <td>2045.36</td>\n",
       "      <td>2074.10</td>\n",
       "    </tr>\n",
       "    <tr>\n",
       "      <th>2021-05-21</th>\n",
       "      <td>2055.08</td>\n",
       "      <td>2042.10</td>\n",
       "      <td>2037.02</td>\n",
       "      <td>2079.88</td>\n",
       "    </tr>\n",
       "    <tr>\n",
       "      <th>2021-05-24</th>\n",
       "      <td>2051.00</td>\n",
       "      <td>2071.29</td>\n",
       "      <td>2031.00</td>\n",
       "      <td>2080.06</td>\n",
       "    </tr>\n",
       "    <tr>\n",
       "      <th>2021-05-25</th>\n",
       "      <td>2085.00</td>\n",
       "      <td>2194.50</td>\n",
       "      <td>2085.00</td>\n",
       "      <td>2200.10</td>\n",
       "    </tr>\n",
       "    <tr>\n",
       "      <th>2021-05-26</th>\n",
       "      <td>2207.98</td>\n",
       "      <td>2220.00</td>\n",
       "      <td>2193.08</td>\n",
       "      <td>2241.80</td>\n",
       "    </tr>\n",
       "  </tbody>\n",
       "</table>\n",
       "<p>4716 rows × 4 columns</p>\n",
       "</div>"
      ],
      "text/plain": [
       "               open    close      low     high\n",
       "trade_date                                    \n",
       "2001-08-27    34.51    35.55    32.85    37.78\n",
       "2001-08-28    34.99    36.86    34.61    37.00\n",
       "2001-08-29    36.98    36.38    36.10    37.00\n",
       "2001-08-30    36.28    37.10    36.00    37.51\n",
       "2001-08-31    37.15    37.01    36.80    37.62\n",
       "...             ...      ...      ...      ...\n",
       "2021-05-20  2074.00  2058.88  2045.36  2074.10\n",
       "2021-05-21  2055.08  2042.10  2037.02  2079.88\n",
       "2021-05-24  2051.00  2071.29  2031.00  2080.06\n",
       "2021-05-25  2085.00  2194.50  2085.00  2200.10\n",
       "2021-05-26  2207.98  2220.00  2193.08  2241.80\n",
       "\n",
       "[4716 rows x 4 columns]"
      ]
     },
     "execution_count": 4,
     "metadata": {},
     "output_type": "execute_result"
    }
   ],
   "source": [
    "sub_data = data.iloc[:-30,[1,4,3,2]]\n",
    "sub_data"
   ]
  },
  {
   "cell_type": "code",
   "execution_count": 5,
   "id": "cfb8ae08-3a89-4ada-b6b4-ea7da336c463",
   "metadata": {},
   "outputs": [
    {
     "name": "stdout",
     "output_type": "stream",
     "text": [
      "指标  open  单位根检验的p值为： 1.0\n",
      "指标  close  单位根检验的p值为： 1.0\n",
      "指标  low  单位根检验的p值为： 1.0\n",
      "指标  high  单位根检验的p值为： 1.0\n"
     ]
    }
   ],
   "source": [
    "for i in range(4):\n",
    "    p_value = stat.adfuller(sub_data.values[:, i], 1)[1]\n",
    "    print(\"指标 \", sub_data.columns[i], \" 单位根检验的p值为：\", p_value)"
   ]
  },
  {
   "cell_type": "code",
   "execution_count": 6,
   "id": "4fcf5c69-e34d-44ca-9260-14e0894506d4",
   "metadata": {},
   "outputs": [
    {
     "name": "stdout",
     "output_type": "stream",
     "text": [
      "指标  open  单位根检验的p值为： 0.0\n",
      "指标  close  单位根检验的p值为： 0.0\n",
      "指标  low  单位根检验的p值为： 0.0\n",
      "指标  high  单位根检验的p值为： 0.0\n"
     ]
    }
   ],
   "source": [
    "sub_data_diff1 = sub_data.iloc[1:, :].values - sub_data.iloc[:-1, :].values\n",
    "for i in range(4):\n",
    "    p_value = stat.adfuller(sub_data_diff1[:, i], 1)[1]\n",
    "    print(\"指标 \", sub_data.columns[i], \" 单位根检验的p值为：\", p_value)"
   ]
  },
  {
   "cell_type": "code",
   "execution_count": 7,
   "id": "41e00744-e73f-4bc9-a466-9214790e6671",
   "metadata": {},
   "outputs": [],
   "source": [
    "rows, cols = sub_data_diff1.shape\n",
    "aicList = []\n",
    "lmList = []"
   ]
  },
  {
   "cell_type": "code",
   "execution_count": 8,
   "id": "955afc32-4bf5-45d0-899b-108daa47b280",
   "metadata": {},
   "outputs": [],
   "source": [
    "for p in range(1, 11):\n",
    "    baseData = None\n",
    "    for i in range(p, rows):\n",
    "        tmp_list = list(sub_data_diff1[i, :]) + list(sub_data_diff1[i - p:i].flatten())\n",
    "        if baseData is None:\n",
    "            baseData = [tmp_list]\n",
    "        else:\n",
    "            baseData = np.r_[baseData, [tmp_list]]\n",
    "    X = np.c_[[1] * baseData.shape[0], baseData[:, cols:]]\n",
    "    Y = baseData[:, 0:cols]\n",
    "    coef_matrix = np.matmul(np.matmul(np.linalg.inv(np.matmul(X.T, X)), X.T), Y)\n",
    "    aic = np.log(np.linalg.det(np.cov(Y - np.matmul(X, coef_matrix), rowvar=False))) + 2 * (\n",
    "                coef_matrix.shape[0] - 1) ** 2 * p / baseData.shape[0]\n",
    "    aicList.append(aic)\n",
    "    lmList.append(coef_matrix)"
   ]
  },
  {
   "cell_type": "code",
   "execution_count": 9,
   "id": "549a2d80-f7c8-433a-bbfe-b666018aae57",
   "metadata": {},
   "outputs": [
    {
     "data": {
      "text/html": [
       "<div>\n",
       "<style scoped>\n",
       "    .dataframe tbody tr th:only-of-type {\n",
       "        vertical-align: middle;\n",
       "    }\n",
       "\n",
       "    .dataframe tbody tr th {\n",
       "        vertical-align: top;\n",
       "    }\n",
       "\n",
       "    .dataframe thead th {\n",
       "        text-align: right;\n",
       "    }\n",
       "</style>\n",
       "<table border=\"1\" class=\"dataframe\">\n",
       "  <thead>\n",
       "    <tr style=\"text-align: right;\">\n",
       "      <th></th>\n",
       "      <th>P</th>\n",
       "      <th>AIC</th>\n",
       "    </tr>\n",
       "  </thead>\n",
       "  <tbody>\n",
       "    <tr>\n",
       "      <th>0</th>\n",
       "      <td>1</td>\n",
       "      <td>14.500593</td>\n",
       "    </tr>\n",
       "    <tr>\n",
       "      <th>1</th>\n",
       "      <td>2</td>\n",
       "      <td>14.018470</td>\n",
       "    </tr>\n",
       "    <tr>\n",
       "      <th>2</th>\n",
       "      <td>3</td>\n",
       "      <td>13.882146</td>\n",
       "    </tr>\n",
       "    <tr>\n",
       "      <th>3</th>\n",
       "      <td>4</td>\n",
       "      <td>14.023159</td>\n",
       "    </tr>\n",
       "    <tr>\n",
       "      <th>4</th>\n",
       "      <td>5</td>\n",
       "      <td>14.262996</td>\n",
       "    </tr>\n",
       "    <tr>\n",
       "      <th>5</th>\n",
       "      <td>6</td>\n",
       "      <td>14.777954</td>\n",
       "    </tr>\n",
       "    <tr>\n",
       "      <th>6</th>\n",
       "      <td>7</td>\n",
       "      <td>15.600241</td>\n",
       "    </tr>\n",
       "    <tr>\n",
       "      <th>7</th>\n",
       "      <td>8</td>\n",
       "      <td>16.675566</td>\n",
       "    </tr>\n",
       "    <tr>\n",
       "      <th>8</th>\n",
       "      <td>9</td>\n",
       "      <td>18.087112</td>\n",
       "    </tr>\n",
       "    <tr>\n",
       "      <th>9</th>\n",
       "      <td>10</td>\n",
       "      <td>19.875426</td>\n",
       "    </tr>\n",
       "  </tbody>\n",
       "</table>\n",
       "</div>"
      ],
      "text/plain": [
       "    P        AIC\n",
       "0   1  14.500593\n",
       "1   2  14.018470\n",
       "2   3  13.882146\n",
       "3   4  14.023159\n",
       "4   5  14.262996\n",
       "5   6  14.777954\n",
       "6   7  15.600241\n",
       "7   8  16.675566\n",
       "8   9  18.087112\n",
       "9  10  19.875426"
      ]
     },
     "execution_count": 9,
     "metadata": {},
     "output_type": "execute_result"
    }
   ],
   "source": [
    "pd.DataFrame({\"P\": range(1, 11), \"AIC\": aicList})"
   ]
  },
  {
   "cell_type": "code",
   "execution_count": 17,
   "id": "3c273164-5969-47fb-becc-8bd62260e87a",
   "metadata": {},
   "outputs": [],
   "source": [
    "p = np.argmin(aicList) + 1\n",
    "n = rows\n",
    "pred_df = None"
   ]
  },
  {
   "cell_type": "code",
   "execution_count": 20,
   "id": "a4a88eb5-6e42-4384-98a0-cb4500712328",
   "metadata": {},
   "outputs": [
    {
     "data": {
      "text/plain": [
       "array([2211.02, 2320.0, 2201.1, 2245.0], dtype=object)"
      ]
     },
     "execution_count": 20,
     "metadata": {},
     "output_type": "execute_result"
    }
   ],
   "source": [
    "data.iloc[n + 1, :].values[1:5]"
   ]
  },
  {
   "cell_type": "code",
   "execution_count": 21,
   "id": "62dbee86-d2c2-4598-9e55-ae3d777e680f",
   "metadata": {},
   "outputs": [],
   "source": [
    "for i in range(30):\n",
    "    pred_data = list(sub_data_diff1[n + i - p:n + i].flatten())\n",
    "    pred_val = np.matmul([1] + pred_data, lmList[p - 1])\n",
    "    # 使用逆差分运算，还原预测值\n",
    "    pred_val = data.iloc[n + i, :].values[1:5] + pred_val\n",
    "    if pred_df is None:\n",
    "        pred_df = [pred_val]\n",
    "    else:\n",
    "        pred_df = np.r_[pred_df, [pred_val]]\n",
    "    # 为sub_data_diff1增加一条新记录\n",
    "    sub_data_diff1 = np.r_[sub_data_diff1, [data.iloc[n + i + 1, :].values[1:5] - data.iloc[n + i, :].values[1:5]]]\n"
   ]
  },
  {
   "cell_type": "code",
   "execution_count": 23,
   "id": "db768b0c-e1bd-4f26-be75-7885449eb238",
   "metadata": {},
   "outputs": [
    {
     "data": {
      "text/html": [
       "<div>\n",
       "<style scoped>\n",
       "    .dataframe tbody tr th:only-of-type {\n",
       "        vertical-align: middle;\n",
       "    }\n",
       "\n",
       "    .dataframe tbody tr th {\n",
       "        vertical-align: top;\n",
       "    }\n",
       "\n",
       "    .dataframe thead th {\n",
       "        text-align: right;\n",
       "    }\n",
       "</style>\n",
       "<table border=\"1\" class=\"dataframe\">\n",
       "  <thead>\n",
       "    <tr style=\"text-align: right;\">\n",
       "      <th></th>\n",
       "      <th>open</th>\n",
       "      <th>high</th>\n",
       "      <th>low</th>\n",
       "      <th>close</th>\n",
       "    </tr>\n",
       "  </thead>\n",
       "  <tbody>\n",
       "    <tr>\n",
       "      <th>count</th>\n",
       "      <td>30.000000</td>\n",
       "      <td>30.000000</td>\n",
       "      <td>30.000000</td>\n",
       "      <td>30.000000</td>\n",
       "    </tr>\n",
       "    <tr>\n",
       "      <th>unique</th>\n",
       "      <td>30.000000</td>\n",
       "      <td>30.000000</td>\n",
       "      <td>30.000000</td>\n",
       "      <td>30.000000</td>\n",
       "    </tr>\n",
       "    <tr>\n",
       "      <th>top</th>\n",
       "      <td>0.001468</td>\n",
       "      <td>0.036965</td>\n",
       "      <td>0.009824</td>\n",
       "      <td>0.008472</td>\n",
       "    </tr>\n",
       "    <tr>\n",
       "      <th>freq</th>\n",
       "      <td>1.000000</td>\n",
       "      <td>1.000000</td>\n",
       "      <td>1.000000</td>\n",
       "      <td>1.000000</td>\n",
       "    </tr>\n",
       "  </tbody>\n",
       "</table>\n",
       "</div>"
      ],
      "text/plain": [
       "             open       high        low      close\n",
       "count   30.000000  30.000000  30.000000  30.000000\n",
       "unique  30.000000  30.000000  30.000000  30.000000\n",
       "top      0.001468   0.036965   0.009824   0.008472\n",
       "freq     1.000000   1.000000   1.000000   1.000000"
      ]
     },
     "execution_count": 23,
     "metadata": {},
     "output_type": "execute_result"
    }
   ],
   "source": [
    "(np.abs(pred_df - data.iloc[-30:data.shape[0], 1:5]) / data.iloc[-30:data.shape[0], 1:5]).describe()"
   ]
  },
  {
   "cell_type": "code",
   "execution_count": 25,
   "id": "e3e85ea1-a98d-4960-92e5-20f56650bd1e",
   "metadata": {},
   "outputs": [
    {
     "data": {
      "image/png": "[encoded data removed]",
      "text/plain": [
       "<Figure size 720x504 with 4 Axes>"
      ]
     },
     "metadata": {
      "needs_background": "light"
     },
     "output_type": "display_data"
    },
    {
     "name": "stdout",
     "output_type": "stream",
     "text": [
      "Evaluation on test data: accuracy = 98.69% \n",
      "\n"
     ]
    }
   ],
   "source": [
    "from matplotlib import pyplot as plt\n",
    "plt.figure(figsize=(10, 7))\n",
    "for i in range(4):\n",
    "    plt.subplot(2, 2, i + 1)\n",
    "    plt.plot(range(30), data.iloc[-30:data.shape[0], i].values, 'o-', c='black')\n",
    "    plt.plot(range(30), pred_df[:, i], 'o--', c='gray')\n",
    "#     plt.ylim(1000, 1200)\n",
    "    plt.ylabel(\"$\" + data.columns[i] + \"$\")\n",
    "plt.show()\n",
    "v = 100 * (1 - np.sum(np.abs(pred_df - data.iloc[-30:data.shape[0], 1:5]).values) / np.sum(data.iloc[-30:data.shape[0], 1:5].values))\n",
    "print(\"Evaluation on test data: accuracy = %0.2f%% \\n\" % v)"
   ]
  },
  {
   "cell_type": "code",
   "execution_count": null,
   "id": "87a73e6a-c0c6-45f0-aa44-db9896a658b7",
   "metadata": {},
   "outputs": [],
   "source": []
  }
 ],
 "metadata": {
  "kernelspec": {
   "display_name": "Python 3 (ipykernel)",
   "language": "python",
   "name": "python3"
  },
  "language_info": {
   "codemirror_mode": {
    "name": "ipython",
    "version": 3
   },
   "file_extension": ".py",
   "mimetype": "text/x-python",
   "name": "python",
   "nbconvert_exporter": "python",
   "pygments_lexer": "ipython3",
   "version": "3.7.6"
  }
 },
 "nbformat": 4,
 "nbformat_minor": 5
}
